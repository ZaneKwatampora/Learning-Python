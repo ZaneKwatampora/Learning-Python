{
 "cells": [
  {
   "cell_type": "code",
   "execution_count": 2,
   "id": "2228f41c",
   "metadata": {},
   "outputs": [
    {
     "name": "stdout",
     "output_type": "stream",
     "text": [
      "Sum is:  9\n"
     ]
    }
   ],
   "source": [
    "def sum_of_numbers(*numbers):\n",
    "    print('Sum is: ', sum(numbers)) \n",
    "    \n",
    "sum_of_numbers(2, 3, 4)"
   ]
  },
  {
   "cell_type": "code",
   "execution_count": 3,
   "id": "a6342d2e",
   "metadata": {},
   "outputs": [
    {
     "name": "stdout",
     "output_type": "stream",
     "text": [
      "Bob is, 50 years old\n",
      "Jane is, 40 years old\n"
     ]
    }
   ],
   "source": [
    "def account(name, age):\n",
    "    print(f'{name} is, {age} years old')\n",
    "\n",
    "account('Bob', 50)\n",
    "account(age=40, name=\"Jane\")"
   ]
  },
  {
   "cell_type": "code",
   "execution_count": 4,
   "id": "0df523e1",
   "metadata": {},
   "outputs": [
    {
     "name": "stdout",
     "output_type": "stream",
     "text": [
      "Hello, Oli\n",
      "Hello, guest\n"
     ]
    }
   ],
   "source": [
    "def greeting (name = \"guest\"):\n",
    "    print(f\"Hello, {name}\")\n",
    "    \n",
    "name = input(\"What is Your Name\")\n",
    "greeting(name)\n",
    "greeting()"
   ]
  },
  {
   "cell_type": "code",
   "execution_count": 6,
   "id": "45dd176b",
   "metadata": {},
   "outputs": [
    {
     "name": "stdout",
     "output_type": "stream",
     "text": [
      "name: John\n",
      "gender: female\n",
      "age: 26\n",
      "city: Mumbai\n"
     ]
    }
   ],
   "source": [
    "def print_info(**info):\n",
    "    for key, value in info.items():\n",
    "        print(f'{key}: {value}')\n",
    "        \n",
    "print_info(name=\"John\", gender=\"female\", age=26, city='Mumbai') "
   ]
  },
  {
   "cell_type": "code",
   "execution_count": 12,
   "id": "3f27570e",
   "metadata": {},
   "outputs": [
    {
     "name": "stdout",
     "output_type": "stream",
     "text": [
      "36\n",
      "27\n",
      "True\n",
      "False\n",
      "Double:  2004\n"
     ]
    }
   ],
   "source": [
    "sqr = lambda x: x * x\n",
    "print(sqr(6))\n",
    "\n",
    "\n",
    "product = lambda a, b: a * b\n",
    "print(product(3, 9))\n",
    "\n",
    "\n",
    "is_even = lambda x: x % 2 == 0\n",
    "print(is_even(2))\n",
    "print(is_even(3))\n",
    "\n",
    "\n",
    "double = lambda y: y * 2\n",
    "num = int(input('Enter a Number'))\n",
    "print(\"Double: \", double(num))"
   ]
  },
  {
   "cell_type": "code",
   "execution_count": 13,
   "id": "b757387a",
   "metadata": {},
   "outputs": [
    {
     "name": "stdout",
     "output_type": "stream",
     "text": [
      "Square of 8 is 64\n"
     ]
    }
   ],
   "source": [
    "def square(x):\n",
    "    return x * x\n",
    "\n",
    "def display_square(n):\n",
    "    result = square(n)\n",
    "    print(f'Square of {n} is {result}')\n",
    "    \n",
    "display_square(8)"
   ]
  },
  {
   "cell_type": "code",
   "execution_count": 14,
   "id": "85892e3a",
   "metadata": {},
   "outputs": [
    {
     "name": "stdout",
     "output_type": "stream",
     "text": [
      "Result: -1.0\n"
     ]
    }
   ],
   "source": [
    "def add(a, b):\n",
    "    return a + b\n",
    "\n",
    "def sub(a, b):\n",
    "    return a - b\n",
    "\n",
    "def mul(a, b):\n",
    "    return a * b\n",
    "\n",
    "def div(a, b):\n",
    "    return a / b if b != 0 else 'Cannot ivide by zero'\n",
    "\n",
    "a = float(input('Please Enter first Number: '))\n",
    "b = float(input('Please Enter second Number: '))\n",
    "\n",
    "operator = input('Choose an operator: (+, -, *, /)')\n",
    "\n",
    "if operator == '+':\n",
    "    print (\"Result: \", add(a, b))\n",
    "    \n",
    "elif operator == '-':\n",
    "    print('Result:', sub(a, b))\n",
    "        \n",
    "elif operator == '*':\n",
    "    print('Result:', mul(a, b))\n",
    "    \n",
    "elif operator == '/':\n",
    "    print('Result:', div(a, b))\n",
    "    \n",
    "else: \n",
    "    print('Invalid Operation')"
   ]
  },
  {
   "cell_type": "code",
   "execution_count": null,
   "id": "ebb5ed9b",
   "metadata": {},
   "outputs": [],
   "source": []
  }
 ],
 "metadata": {
  "kernelspec": {
   "display_name": "virtual",
   "language": "python",
   "name": "python3"
  },
  "language_info": {
   "codemirror_mode": {
    "name": "ipython",
    "version": 3
   },
   "file_extension": ".py",
   "mimetype": "text/x-python",
   "name": "python",
   "nbconvert_exporter": "python",
   "pygments_lexer": "ipython3",
   "version": "3.13.2"
  }
 },
 "nbformat": 4,
 "nbformat_minor": 5
}
