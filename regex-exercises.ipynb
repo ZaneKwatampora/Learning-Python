{
 "cells": [
  {
   "cell_type": "markdown",
   "id": "c80eabba",
   "metadata": {},
   "source": [
    "Write a program that uses regex to validate user input. Examples:\n",
    "Check if a password meets certain criteria (e.g., minimum length, containing uppercase and lowercase letters)."
   ]
  },
  {
   "cell_type": "code",
   "execution_count": 10,
   "id": "de4b2a42",
   "metadata": {},
   "outputs": [
    {
     "name": "stdout",
     "output_type": "stream",
     "text": [
      "Pasword is weak\n",
      "Pasword is weak\n",
      "Pasword is weak\n",
      "Password accepted successfully\n"
     ]
    }
   ],
   "source": [
    "import re\n",
    "\n",
    "pattern = r\"^.*(?=.{8,})(?=.*\\d)(?=.*[a-z])(?=.*[A-Z])(?=.*[@#$%^&+=]).*$\"\n",
    "\n",
    "while True:\n",
    "    password = input(\"Add a password: \")\n",
    "    if re.match(pattern, password):\n",
    "        print(\"Password accepted successfully\")\n",
    "        break\n",
    "    else: \n",
    "        print(\"Pasword is weak\")\n"
   ]
  },
  {
   "cell_type": "markdown",
   "id": "e14d32c2",
   "metadata": {},
   "source": [
    "Write a program that uses regex to search for and replace text in a string."
   ]
  },
  {
   "cell_type": "code",
   "execution_count": null,
   "id": "1295976b",
   "metadata": {},
   "outputs": [
    {
     "name": "stdout",
     "output_type": "stream",
     "text": [
      "Mrs. Thompson brought cookies for everyone.\n"
     ]
    }
   ],
   "source": [
    "text = input('Write a sentence that Uses \"Mr\"')\n",
    "\n",
    "result = re.sub(r'Mr', 'Mrs', text)\n",
    "print(result)"
   ]
  },
  {
   "cell_type": "markdown",
   "id": "7f7b72c2",
   "metadata": {},
   "source": [
    "Write a Python program to check that a string contains only a certain set of characters"
   ]
  },
  {
   "cell_type": "code",
   "execution_count": null,
   "id": "2f1d9e90",
   "metadata": {},
   "outputs": [
    {
     "name": "stdout",
     "output_type": "stream",
     "text": [
      "Do not use special characters\n"
     ]
    }
   ],
   "source": [
    "text = input(\"Enter: \")\n",
    "result = re.sub(\"[A-Za-z0-9]\", '', text)\n",
    "if len(result) == 0:\n",
    "    print(text)\n",
    "else:\n",
    "    print(\"Do not use special characters\")"
   ]
  },
  {
   "cell_type": "markdown",
   "id": "bd28957a",
   "metadata": {},
   "source": [
    "Write a Python program that matches a string that has an ‘a’ followed by anything, ending in ‘b’."
   ]
  },
  {
   "cell_type": "code",
   "execution_count": 8,
   "id": "b99bba66",
   "metadata": {},
   "outputs": [
    {
     "name": "stdout",
     "output_type": "stream",
     "text": [
      "Correct, Good Job\n"
     ]
    }
   ],
   "source": [
    "import re\n",
    "patterns = r'\\s*a.*?b\\s*$'\n",
    "\n",
    "while True:\n",
    "    text = input(\"Input text here. It has to start with a and end in b\")\n",
    "    if re.search(patterns, text):\n",
    "        print(\"Correct, Good Job\")\n",
    "        break\n",
    "    else:\n",
    "        input('Wrong pattern, try again: ')\n",
    "        break"
   ]
  },
  {
   "cell_type": "markdown",
   "id": "13c53fb3",
   "metadata": {},
   "source": [
    "Write a program that uses regex to extract specific information from a string. "
   ]
  },
  {
   "cell_type": "code",
   "execution_count": 14,
   "id": "d217203e",
   "metadata": {},
   "outputs": [
    {
     "name": "stdout",
     "output_type": "stream",
     "text": [
      "Emails: ['ijf8onns8yg6akm@msn.com']\n"
     ]
    }
   ],
   "source": [
    "text = \"Contact me at ijf8onns8yg6akm@msn.com\"\n",
    "emails = re.findall(r'\\S+@\\S+\\.\\S+', text)\n",
    "\n",
    "print(\"Emails:\", emails)"
   ]
  }
 ],
 "metadata": {
  "kernelspec": {
   "display_name": "virtual",
   "language": "python",
   "name": "python3"
  },
  "language_info": {
   "codemirror_mode": {
    "name": "ipython",
    "version": 3
   },
   "file_extension": ".py",
   "mimetype": "text/x-python",
   "name": "python",
   "nbconvert_exporter": "python",
   "pygments_lexer": "ipython3",
   "version": "3.13.2"
  }
 },
 "nbformat": 4,
 "nbformat_minor": 5
}
