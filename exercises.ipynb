{
 "cells": [
  {
   "cell_type": "markdown",
   "id": "d7f16ad7",
   "metadata": {},
   "source": [
    "Write a program that generates a random number between 1 and 100. The user has to guess the number in a limited number of attempts. Provide feedback after each guess (higher, lower, or correct)."
   ]
  },
  {
   "cell_type": "code",
   "execution_count": null,
   "id": "e41305de",
   "metadata": {},
   "outputs": [
    {
     "name": "stdout",
     "output_type": "stream",
     "text": [
      "Welcome to the Guessing Game!\n",
      "Try to guess the secret number!\n",
      "Too low! Try again.\n",
      "Too low! Try again.\n",
      "Too low! Try again.\n",
      "Too high! Try again.\n",
      "Too high! Try again.\n",
      "Too low! Try again.\n",
      "Too low! Try again.\n",
      "Too high! Try again.\n",
      "Too high! Try again.\n",
      "Too high! Try again.\n",
      "Sorry, you've used all 10 attempts. The number was 27.\n"
     ]
    }
   ],
   "source": [
    "import random\n",
    "\n",
    "\n",
    "random_num = random.randint(1, 50)\n",
    "\n",
    "max_attempts = 10\n",
    "attempts = 0\n",
    "\n",
    "print(\"Welcome to the Guessing Game!\")\n",
    "print(\"Try to guess the secret number!\")\n",
    "\n",
    "while attempts < max_attempts:\n",
    "    guesses = int(input(f\"Attempt {attempts + 1}/{max_attempts}: Enter your guess: \"))\n",
    "    attempts += 1\n",
    "\n",
    "    if guesses < random_num:\n",
    "        print(\"Too low! Try again.\")\n",
    "    elif guesses > random_num:\n",
    "        print(\"Too high! Try again.\")\n",
    "    else:\n",
    "        print(f\"Correct! You guessed the number {random_num} in {attempts} attempts.\")\n",
    "        \n",
    "else:\n",
    "    print(f\"Sorry, you've used all {max_attempts} attempts. The number was {random_num}.\")\n"
   ]
  },
  {
   "cell_type": "markdown",
   "id": "d1c80135",
   "metadata": {},
   "source": [
    "Write a program that allows the user to enter two numbers and an operator (+, -, *, /) and perform the corresponding calculation. Use conditional statements to handle different operators"
   ]
  },
  {
   "cell_type": "code",
   "execution_count": 7,
   "id": "6f73595f",
   "metadata": {},
   "outputs": [
    {
     "name": "stdout",
     "output_type": "stream",
     "text": [
      "Input invalid\n"
     ]
    }
   ],
   "source": [
    "num1 = float(input('Enter a number 1: '))\n",
    "operator = input('Enter an operator: ')\n",
    "num2 = float(input('Enter a number 2: '))\n",
    "\n",
    "if operator == \"+\":\n",
    "    total = num1 + num2\n",
    "elif operator == \"-\": \n",
    "    total = num1 - num2\n",
    "elif operator == \"*\":\n",
    "    total = num1 * num2 \n",
    "elif operator == \"/\":\n",
    "    total = num1 / num2\n",
    "else:\n",
    "    print(\"Input invalid\")\n",
    "    total = None\n",
    "\n",
    "if total is not None:    \n",
    "    print (total)"
   ]
  },
  {
   "cell_type": "markdown",
   "id": "2f27a381",
   "metadata": {},
   "source": [
    "Write a program that uses a while loop to check if a number entered by the user is a prime number (divisible only by 1 and itself)."
   ]
  },
  {
   "cell_type": "code",
   "execution_count": 16,
   "id": "7b5f2e84",
   "metadata": {},
   "outputs": [
    {
     "name": "stdout",
     "output_type": "stream",
     "text": [
      "-7 is not a Prime Number\n"
     ]
    }
   ],
   "source": [
    "num = int(input(\"Enter A Number: \"))\n",
    "\n",
    "if num <= 1:\n",
    "    print(f\"{num} is not a Prime Number\")\n",
    "else:\n",
    "    divisor = 2\n",
    "    is_prime = True\n",
    "    while divisor <= num // 2:\n",
    "        if num % divisor == 0:\n",
    "            is_prime = False\n",
    "        divisor += 1\n",
    "        \n",
    "    if is_prime:\n",
    "        print(f\"{num} is prime.\")\n",
    "    else:\n",
    "        print(f\"{num} is not prime.\")\n"
   ]
  },
  {
   "cell_type": "markdown",
   "id": "1a16e1b1",
   "metadata": {},
   "source": [
    "Write a program that uses a for loop to print the multiplication table of a number entered by the user (up to a specified number of multiples)."
   ]
  },
  {
   "cell_type": "code",
   "execution_count": 23,
   "id": "b5340ea7",
   "metadata": {},
   "outputs": [
    {
     "name": "stdout",
     "output_type": "stream",
     "text": [
      "2 x 0 = 0\n",
      "2 x 1 = 2\n",
      "2 x 2 = 4\n",
      "2 x 3 = 6\n",
      "2 x 4 = 8\n",
      "2 x 5 = 10\n",
      "2 x 6 = 12\n",
      "2 x 7 = 14\n",
      "2 x 8 = 16\n",
      "2 x 9 = 18\n",
      "2 x 10 = 20\n",
      "2 x 11 = 22\n",
      "2 x 12 = 24\n"
     ]
    }
   ],
   "source": [
    "num = int(input(\"Enter a number: \"))\n",
    "limit = 12 \n",
    "\n",
    "\n",
    "for nums in range(0, limit + 1):  \n",
    "    print(f\"{num} x {nums} = {num * nums}\")  "
   ]
  },
  {
   "cell_type": "markdown",
   "id": "f50cf215",
   "metadata": {},
   "source": [
    "Write a program that uses a for loop to calculate the sum of numbers from 1 to a given number entered by the user."
   ]
  },
  {
   "cell_type": "code",
   "execution_count": 31,
   "id": "b1781f9c",
   "metadata": {},
   "outputs": [
    {
     "name": "stdout",
     "output_type": "stream",
     "text": [
      "6\n"
     ]
    }
   ],
   "source": [
    "num = int(input(\"Enter a number: \"))\n",
    "total_sum = 0\n",
    "\n",
    "for nums in range(1, num + 1):\n",
    "    total_sum += nums\n",
    "    \n",
    "print(total_sum)"
   ]
  },
  {
   "cell_type": "markdown",
   "id": "137af663",
   "metadata": {},
   "source": [
    "Write a program that uses a for loop to print a pattern of stars or characters like a triangle."
   ]
  },
  {
   "cell_type": "code",
   "execution_count": 46,
   "id": "7dbb19cc",
   "metadata": {},
   "outputs": [
    {
     "name": "stdout",
     "output_type": "stream",
     "text": [
      " *\n",
      " * *\n",
      " * * *\n",
      " * * * *\n",
      " * * * * *\n"
     ]
    }
   ],
   "source": [
    "character = input(\"Enter a Character: \")\n",
    "\n",
    "for i in range(5):\n",
    "    print(f' {character}' * (i+1))"
   ]
  },
  {
   "cell_type": "code",
   "execution_count": null,
   "id": "c6459c8e",
   "metadata": {},
   "outputs": [],
   "source": []
  }
 ],
 "metadata": {
  "kernelspec": {
   "display_name": "virtual",
   "language": "python",
   "name": "python3"
  },
  "language_info": {
   "codemirror_mode": {
    "name": "ipython",
    "version": 3
   },
   "file_extension": ".py",
   "mimetype": "text/x-python",
   "name": "python",
   "nbconvert_exporter": "python",
   "pygments_lexer": "ipython3",
   "version": "3.13.2"
  }
 },
 "nbformat": 4,
 "nbformat_minor": 5
}
