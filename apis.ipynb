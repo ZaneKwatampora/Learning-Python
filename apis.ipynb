{
 "cells": [
  {
   "cell_type": "code",
   "execution_count": 7,
   "id": "7faf3550",
   "metadata": {},
   "outputs": [
    {
     "name": "stdout",
     "output_type": "stream",
     "text": [
      "Access granted 200\n"
     ]
    }
   ],
   "source": [
    "import requests\n",
    "\n",
    "username = 'ZaneKwatampora'\n",
    "url = f\"https://api.github.com/users/{username}/repos\"\n",
    "\n",
    "response = requests.get(url)\n",
    "# print(response.status_code\n",
    "\n",
    "if response.status_code != 200:\n",
    "    print (f'Access not granted {response.status_code}')\n",
    "else:\n",
    "    print (f'Access granted {response.status_code}')\n"
   ]
  },
  {
   "cell_type": "code",
   "execution_count": 1,
   "id": "58f714e8",
   "metadata": {},
   "outputs": [
    {
     "name": "stdout",
     "output_type": "stream",
     "text": [
      "Access granted 200\n",
      "Name: Big-Back-Recipes\n",
      "Description: A recipe page\n",
      "~~~~~~~~~~~~~~~~~~~~~~~~~~~~~~~~~\n",
      "Name: bookify-frontend\n",
      "Description: No description available\n",
      "~~~~~~~~~~~~~~~~~~~~~~~~~~~~~~~~~\n",
      "Name: footer1\n",
      "Description: No description available\n",
      "~~~~~~~~~~~~~~~~~~~~~~~~~~~~~~~~~\n",
      "Name: Hotel\n",
      "Description: Hotel Website project\n",
      "~~~~~~~~~~~~~~~~~~~~~~~~~~~~~~~~~\n",
      "Name: html-basics-challenge\n",
      "Description: No description available\n",
      "~~~~~~~~~~~~~~~~~~~~~~~~~~~~~~~~~\n",
      "Name: HTML003\n",
      "Description: No description available\n",
      "~~~~~~~~~~~~~~~~~~~~~~~~~~~~~~~~~\n",
      "Name: Learning-Python\n",
      "Description: No description available\n",
      "~~~~~~~~~~~~~~~~~~~~~~~~~~~~~~~~~\n",
      "Name: List-Viewer\n",
      "Description: No description available\n",
      "~~~~~~~~~~~~~~~~~~~~~~~~~~~~~~~~~\n",
      "Name: openWeatherApp\n",
      "Description: Open Weather App I made\n",
      "~~~~~~~~~~~~~~~~~~~~~~~~~~~~~~~~~\n",
      "Name: Portfolio\n",
      "Description: No description available\n",
      "~~~~~~~~~~~~~~~~~~~~~~~~~~~~~~~~~\n",
      "Name: project1-js\n",
      "Description: No description available\n",
      "~~~~~~~~~~~~~~~~~~~~~~~~~~~~~~~~~\n",
      "Name: random-project\n",
      "Description: No description available\n",
      "~~~~~~~~~~~~~~~~~~~~~~~~~~~~~~~~~\n",
      "Name: rock-paper-scissors\n",
      "Description: Rock paper scissors game I made.\n",
      "~~~~~~~~~~~~~~~~~~~~~~~~~~~~~~~~~\n",
      "Name: rock-paper-scissors-python\n",
      "Description: No description available\n",
      "~~~~~~~~~~~~~~~~~~~~~~~~~~~~~~~~~\n",
      "Name: Skill-UP\n",
      "Description: Skill-UP is a gaming website built with HTML, CSS, and JavaScript.\n",
      "~~~~~~~~~~~~~~~~~~~~~~~~~~~~~~~~~\n",
      "Name: Software-Dev-Intro\n",
      "Description: An introduction to software development.\n",
      "~~~~~~~~~~~~~~~~~~~~~~~~~~~~~~~~~\n",
      "Name: Tailwind-css-Project\n",
      "Description: No description available\n",
      "~~~~~~~~~~~~~~~~~~~~~~~~~~~~~~~~~\n",
      "Name: USA-people-data\n",
      "Description: No description available\n",
      "~~~~~~~~~~~~~~~~~~~~~~~~~~~~~~~~~\n"
     ]
    }
   ],
   "source": [
    "import requests\n",
    "from decouple import config\n",
    "\n",
    "username = 'ZaneKwatampora'\n",
    "token = config('GITHUB_ACCESS_TOKEN')\n",
    "headers = {\n",
    "    \"Authorization\" : f'token {token}'\n",
    "}\n",
    "url = f\"https://api.github.com/users/{username}/repos\"\n",
    "\n",
    "response = requests.get(url, headers=headers)\n",
    "# print(response.status_code\n",
    "\n",
    "if response.status_code != 200:\n",
    "    print (f'Access not granted {response.status_code}')\n",
    "else:\n",
    "    repos = response.json()\n",
    "    print(f'Access granted {response.status_code}')\n",
    "    for repo in repos:\n",
    "        name = repo.get('name')\n",
    "        des = repo.get('description')  or 'No description available'\n",
    "        print(f'Name: {name}\\nDescription: {des}')\n",
    "        print('~~~~~~~~~~~~~~~~~~~~~~~~~~~~~~~~~')\n",
    "\n"
   ]
  },
  {
   "cell_type": "code",
   "execution_count": 2,
   "id": "ba5251e9",
   "metadata": {},
   "outputs": [
    {
     "name": "stdout",
     "output_type": "stream",
     "text": [
      "date 2025-04-25\n",
      "explanation Main belt asteroid 52246 Donaldjohanson is about 8 kilometers long and 3.5 kilometers across. On April 20, this sharp close-up of the asteroid was captured at a distance of about 1100 kilometers by the Lucy spacecraft's long range camera during its second asteroid encounter. Named after American paleoanthropologist Donald Johanson, discoverer of the Lucy hominid fossil, the elongated asteroid was likely formed about 150 million years ago from a gentle collision of two smaller bodies creating its characteristic contact binary shape. Launched in October of 2021, the Lucy spacecraft will continue its travels through the main asteroid belt in 2025, but is on its way to explore Jupiter's swarm of Trojan asteroids. Lucy is expected to encounter its first Trojan asteroid target, 3548 Eurybates, in August 2027.\n",
      "hdurl https://apod.nasa.gov/apod/image/2504/final_0798443319_dec.png\n",
      "media_type image\n",
      "service_version v1\n",
      "title Asteroid Donaldjohanson\n",
      "url https://apod.nasa.gov/apod/image/2504/final_0798443319_dec.png\n"
     ]
    }
   ],
   "source": [
    "import requests\n",
    "from decouple import config\n",
    "\n",
    "token = config(\"NASA_TOKEN\")\n",
    "# print(token)\n",
    "\n",
    "headers = {\n",
    "    \"Authorization\" : f'token {token}'\n",
    "}\n",
    "url = f\"https://api.nasa.gov/planetary/apod?api_key={token}\"\n",
    "\n",
    "response = requests.get(url, headers=headers)\n",
    "\n",
    "if response.status_code != 200:\n",
    "    print (f'Access not granted {response.status_code}')\n",
    "else:\n",
    "    nasa = response.json()\n",
    "    for key, value in nasa.items():\n",
    "        print(key, value)"
   ]
  }
 ],
 "metadata": {
  "kernelspec": {
   "display_name": "virtual",
   "language": "python",
   "name": "python3"
  },
  "language_info": {
   "codemirror_mode": {
    "name": "ipython",
    "version": 3
   },
   "file_extension": ".py",
   "mimetype": "text/x-python",
   "name": "python",
   "nbconvert_exporter": "python",
   "pygments_lexer": "ipython3",
   "version": "3.13.2"
  }
 },
 "nbformat": 4,
 "nbformat_minor": 5
}
