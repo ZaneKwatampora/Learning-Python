{
 "cells": [
  {
   "cell_type": "code",
   "execution_count": null,
   "id": "5208f7ac",
   "metadata": {},
   "outputs": [
    {
     "name": "stdout",
     "output_type": "stream",
     "text": [
      "hi\n"
     ]
    }
   ],
   "source": [
    "import sqlite3\n",
    "\n",
    "conn = sqlite3.connect('quizdata.db')\n",
    "\n",
    "cursor = conn.cursor()\n",
    "\n",
    "cursor.execute('SELECT * FROM people')\n",
    "rows = cursor.fetchall()\n",
    "\n",
    "print('States in the db')"
   ]
  },
  {
   "cell_type": "code",
   "execution_count": 6,
   "id": "2da3cc88",
   "metadata": {},
   "outputs": [
    {
     "name": "stdout",
     "output_type": "stream",
     "text": [
      "Table 'users' created (if not existed)\n",
      "2 users inserted successfully.\n",
      "(1, 'John', 'john@gmail.com')\n",
      "(2, 'Bob', 'bob@gmail.com')\n",
      "(3, 'John', 'john@gmail.com')\n",
      "(4, 'Bob', 'bob@gmail.com')\n"
     ]
    },
    {
     "data": {
      "text/plain": [
       "<function Connection.close()>"
      ]
     },
     "execution_count": 6,
     "metadata": {},
     "output_type": "execute_result"
    }
   ],
   "source": [
    "import sqlite3\n",
    "\n",
    "conn = sqlite3.connect('users.db')\n",
    "\n",
    "cursor = conn.cursor()\n",
    "\n",
    "cursor.execute('''\n",
    "CREATE TABLE IF NOT EXISTS users(\n",
    "    id INTEGER PRIMARY KEY AUTOINCREMENT,\n",
    "    name TEXT NOT NULL,\n",
    "    email TEXT NOT NULL\n",
    ")\n",
    "''')\n",
    "print(\"Table 'users' created (if not existed)\")\n",
    "\n",
    "users_to_insert = [\n",
    "    ('John', 'john@gmail.com'),\n",
    "    ('Bob', 'bob@gmail.com')\n",
    "]\n",
    "\n",
    "cursor.executemany(\"INSERT INTO users (name, email) VALUES (?, ?)\", users_to_insert)\n",
    "conn.commit()\n",
    "\n",
    "print(f\"{cursor.rowcount} users inserted successfully.\")\n",
    "\n",
    "cursor.execute(\"SELECT * FROM users\")\n",
    "for row in cursor.fetchall():\n",
    "    print(row)\n",
    "conn.close"
   ]
  }
 ],
 "metadata": {
  "kernelspec": {
   "display_name": "virtual",
   "language": "python",
   "name": "python3"
  },
  "language_info": {
   "codemirror_mode": {
    "name": "ipython",
    "version": 3
   },
   "file_extension": ".py",
   "mimetype": "text/x-python",
   "name": "python",
   "nbconvert_exporter": "python",
   "pygments_lexer": "ipython3",
   "version": "3.13.2"
  }
 },
 "nbformat": 4,
 "nbformat_minor": 5
}
