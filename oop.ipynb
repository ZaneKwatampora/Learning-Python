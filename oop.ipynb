{
 "cells": [
  {
   "cell_type": "code",
   "execution_count": 2,
   "id": "004c22c3",
   "metadata": {},
   "outputs": [
    {
     "name": "stdout",
     "output_type": "stream",
     "text": [
      "Starting the flying car\n",
      "Driving on the road...\n",
      "Flying in the sky...\n"
     ]
    }
   ],
   "source": [
    "class Car:\n",
    "    def drive(self):\n",
    "        print('Driving on the road...')\n",
    "\n",
    "class Jet:\n",
    "    def fly(self):\n",
    "        print('Flying in the sky...')\n",
    "        \n",
    "class FlyingCar(Car, Jet):\n",
    "    def start(self):\n",
    "        print('Starting the flying car')\n",
    "        \n",
    "fcar1 = FlyingCar()\n",
    "fcar1.start()\n",
    "fcar1.drive()\n",
    "fcar1.fly()\n"
   ]
  },
  {
   "cell_type": "code",
   "execution_count": 6,
   "id": "55cab043",
   "metadata": {},
   "outputs": [
    {
     "name": "stdout",
     "output_type": "stream",
     "text": [
      "Withdrawn $20\n",
      "Balance: $130\n"
     ]
    }
   ],
   "source": [
    "class BankAccount: \n",
    "    def __init__(self, balance):\n",
    "        self.__balance = balance\n",
    "        \n",
    "    def deposit(self, amount):\n",
    "        self.__balance += amount\n",
    "        \n",
    "    def withdraw(self, amount):\n",
    "        if amount > self.__balance:\n",
    "            print('Insufficient funds!')\n",
    "        else:\n",
    "            self.__balance -= amount\n",
    "            print(f'Withdrawn ${amount}')\n",
    "        \n",
    "    def show_balance(self):\n",
    "        print(f'Balance: ${self.__balance}')\n",
    "        \n",
    "account1 = BankAccount(150)\n",
    "# account1.deposit(input('Enter a number you would like to deposit: '))\n",
    "account1.withdraw(20)\n",
    "account1.show_balance()\n",
    "\n"
   ]
  },
  {
   "cell_type": "code",
   "execution_count": 7,
   "id": "a800c9d1",
   "metadata": {},
   "outputs": [
    {
     "name": "stdout",
     "output_type": "stream",
     "text": [
      "The Bird is flying.\n",
      "The Jet is flying.\n"
     ]
    }
   ],
   "source": [
    "class Bird:\n",
    "    def fly(self):\n",
    "        print('The Bird is flying.')\n",
    "        \n",
    "class Jet:\n",
    "    def fly(self):\n",
    "        print('The Jet is flying.')\n",
    "\n",
    "def fly_it(anything):\n",
    "    anything.fly()\n",
    "        \n",
    "fly_it(Bird())\n",
    "fly_it(Jet())"
   ]
  },
  {
   "cell_type": "code",
   "execution_count": 11,
   "id": "476f8749",
   "metadata": {},
   "outputs": [
    {
     "name": "stdout",
     "output_type": "stream",
     "text": [
      "Hi, I'm Alice and I'm 14 years old.\n",
      "I'm a student with ID S001.\n",
      "Grades: {'Math': 90, 'Science': 85}\n",
      "Hi, I'm Bob and I'm 15 years old.\n",
      "I'm a student with ID S002.\n",
      "Grades: {'Math': 80, 'Science': 95}\n",
      "Average grade for Math is 85.0\n"
     ]
    }
   ],
   "source": [
    "class Person:\n",
    "    def __init__(self, name, age):\n",
    "        self.name = name\n",
    "        self.age = age\n",
    "\n",
    "    def introduce(self):\n",
    "        print(f\"Hi, I'm {self.name} and I'm {self.age} years old.\")\n",
    "\n",
    "class Student(Person):\n",
    "    def __init__(self, name, age, student_id):\n",
    "        Person.__init__(self, name, age)\n",
    "        self.student_id = student_id\n",
    "        self.grades = {}\n",
    "\n",
    "    def introduce(self):\n",
    "        print(f\"Hi, I'm {self.name} and I'm {self.age} years old.\")\n",
    "        print(f\"I'm a student with ID {self.student_id}.\")\n",
    "\n",
    "    def add_grade(self, subject, grade):\n",
    "        self.grades[subject] = grade\n",
    "\n",
    "    def get_grades(self):\n",
    "        return self.grades\n",
    "\n",
    "class School:\n",
    "    def __init__(self):\n",
    "        self.students = []\n",
    "\n",
    "    def add_student(self, student):\n",
    "        self.students.append(student)\n",
    "\n",
    "    def show_all_students(self):\n",
    "        for student in self.students:\n",
    "            student.introduce()\n",
    "            print(f\"Grades: {student.get_grades()}\")\n",
    "\n",
    "    def get_average_grade(self, subject):\n",
    "        total = 0\n",
    "        count = 0\n",
    "        for student in self.students:\n",
    "            grades = student.get_grades()\n",
    "            if subject in grades:\n",
    "                total += grades[subject]\n",
    "                count += 1\n",
    "        if count == 0:\n",
    "            print(f\"No grades available for {subject}\")\n",
    "        else:\n",
    "            average = total / count\n",
    "            print(f\"Average grade for {subject} is {average}\")\n",
    "            \n",
    "my_school = School()\n",
    "\n",
    "student1 = Student(\"Alice\", 14, \"S001\")\n",
    "student1.add_grade(\"Math\", 90)\n",
    "student1.add_grade(\"Science\", 85)\n",
    "\n",
    "student2 = Student(\"Bob\", 15, \"S002\")\n",
    "student2.add_grade(\"Math\", 80)\n",
    "student2.add_grade(\"Science\", 95)\n",
    "\n",
    "my_school.add_student(student1)\n",
    "my_school.add_student(student2)\n",
    "my_school.show_all_students()\n",
    "my_school.get_average_grade(\"Math\")\n"
   ]
  }
 ],
 "metadata": {
  "kernelspec": {
   "display_name": "virtual",
   "language": "python",
   "name": "python3"
  },
  "language_info": {
   "codemirror_mode": {
    "name": "ipython",
    "version": 3
   },
   "file_extension": ".py",
   "mimetype": "text/x-python",
   "name": "python",
   "nbconvert_exporter": "python",
   "pygments_lexer": "ipython3",
   "version": "3.13.2"
  }
 },
 "nbformat": 4,
 "nbformat_minor": 5
}
