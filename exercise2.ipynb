{
 "cells": [
  {
   "cell_type": "markdown",
   "id": "029db5dc",
   "metadata": {},
   "source": [
    "Create a function that will determine whether a number is positive or negative."
   ]
  },
  {
   "cell_type": "code",
   "execution_count": 4,
   "id": "f52658b6",
   "metadata": {},
   "outputs": [
    {
     "name": "stdout",
     "output_type": "stream",
     "text": [
      "Negative\n"
     ]
    }
   ],
   "source": [
    "def check_number_sign(number):\n",
    "    if number > 0:\n",
    "        return \"Positive\"\n",
    "    elif number < 0:\n",
    "        return \"Negative\"\n",
    "    else:\n",
    "        return \"Zero\"\n",
    "    \n",
    "number = float(input(\"Enter a Number: \"))\n",
    "print(check_number_sign(number))"
   ]
  },
  {
   "cell_type": "markdown",
   "id": "fb8a3598",
   "metadata": {},
   "source": [
    "Write functions to calculate the area of different shapes like square (area_of_square(side_length)), rectangle (area_of_rectangle(length, width)), and circle (area_of_circle(radius))."
   ]
  },
  {
   "cell_type": "code",
   "execution_count": 38,
   "id": "3bcea0f5",
   "metadata": {},
   "outputs": [
    {
     "name": "stdout",
     "output_type": "stream",
     "text": [
      "Square area: 16\n",
      "Rectangle area: 69\n",
      "Circle area: 31415.926535897932\n"
     ]
    }
   ],
   "source": [
    "import math\n",
    "\n",
    "def area_of_square(side_length):\n",
    "    return side_length ** 2\n",
    "\n",
    "def area_of_rectangle(length, width):\n",
    "    return length * width\n",
    "\n",
    "def area_of_circle(radius):\n",
    "    return math.pi * radius ** 2\n",
    "    \n",
    "print(\"Square area:\", area_of_square(4)) \n",
    "print(\"Rectangle area:\", area_of_rectangle(23, 3)) \n",
    "print(\"Circle area:\", area_of_circle(100))   "
   ]
  },
  {
   "cell_type": "markdown",
   "id": "4f4b46c0",
   "metadata": {},
   "source": [
    "Write a function called calculate_grade that takes a score as input and returns the corresponding letter grade (A, B, C, D, F) based on a grading scale (e.g., A: 90-100, B: 80-89, etc.)."
   ]
  },
  {
   "cell_type": "code",
   "execution_count": 34,
   "id": "db4f5e35",
   "metadata": {},
   "outputs": [
    {
     "name": "stdout",
     "output_type": "stream",
     "text": [
      "Grade: F\n"
     ]
    }
   ],
   "source": [
    "def calculate_grade():\n",
    "    score = int(input('Input your score: '))\n",
    "    if score >= 90:\n",
    "        print(\"Grade: A\")\n",
    "    elif score >= 80:\n",
    "        print('Grade: B')\n",
    "    elif score >= 70:\n",
    "       print('Grade: C')\n",
    "    elif score >= 60:\n",
    "        print('Grade: D')\n",
    "    elif score >= 0:\n",
    "        print('Grade: F')\n",
    "    elif score <= -1:\n",
    "        print(\"You need help\")\n",
    "    else: \n",
    "        print(\"Input a valid score\")\n",
    "        \n",
    "calculate_grade()\n"
   ]
  },
  {
   "cell_type": "code",
   "execution_count": null,
   "id": "b2537fa5",
   "metadata": {},
   "outputs": [],
   "source": []
  }
 ],
 "metadata": {
  "kernelspec": {
   "display_name": "virtual",
   "language": "python",
   "name": "python3"
  },
  "language_info": {
   "codemirror_mode": {
    "name": "ipython",
    "version": 3
   },
   "file_extension": ".py",
   "mimetype": "text/x-python",
   "name": "python",
   "nbconvert_exporter": "python",
   "pygments_lexer": "ipython3",
   "version": "3.13.2"
  }
 },
 "nbformat": 4,
 "nbformat_minor": 5
}
