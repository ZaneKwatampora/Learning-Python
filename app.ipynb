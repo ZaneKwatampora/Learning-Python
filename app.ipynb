{
 "cells": [
  {
   "cell_type": "code",
   "execution_count": 1,
   "id": "7f2c5972",
   "metadata": {},
   "outputs": [
    {
     "name": "stdout",
     "output_type": "stream",
     "text": [
      "Hello, World\n"
     ]
    }
   ],
   "source": [
    "print('Hello, World')"
   ]
  },
  {
   "cell_type": "code",
   "execution_count": null,
   "id": "8ef84857",
   "metadata": {},
   "outputs": [
    {
     "name": "stdout",
     "output_type": "stream",
     "text": [
      "<class 'int'>\n",
      "<class 'float'>\n",
      "(4+3j)\n"
     ]
    }
   ],
   "source": [
    "x = 1 \n",
    "print (type( x ))\n",
    "\n",
    "y = 5.35 \n",
    "print (type ( y ))\n",
    "\n",
    "z = 4 + 3j\n",
    "print(z)"
   ]
  },
  {
   "cell_type": "code",
   "execution_count": 8,
   "id": "a7255e6b",
   "metadata": {},
   "outputs": [
    {
     "name": "stdout",
     "output_type": "stream",
     "text": [
      "John Doe\n",
      "<class 'str'>\n",
      "John Doe\n"
     ]
    }
   ],
   "source": [
    "first_name = 'John'\n",
    "last_name = 'Doe'\n",
    "full_name = first_name + \" \" + last_name\n",
    "full_name2 = f\"{first_name} {last_name}\"\n",
    "print(full_name)\n",
    "print(type(first_name))\n",
    "print(full_name2)\n"
   ]
  },
  {
   "cell_type": "code",
   "execution_count": 11,
   "id": "ec518ace",
   "metadata": {},
   "outputs": [
    {
     "name": "stdout",
     "output_type": "stream",
     "text": [
      "<class 'bool'>\n"
     ]
    }
   ],
   "source": [
    "is_student = True\n",
    "print(type(is_student))"
   ]
  },
  {
   "cell_type": "code",
   "execution_count": 12,
   "id": "3727ba9e",
   "metadata": {},
   "outputs": [
    {
     "name": "stdout",
     "output_type": "stream",
     "text": [
      "['Jane Smith', 'John Smith', 'Bob James', 'Food Wars']\n"
     ]
    }
   ],
   "source": [
    "my_list = [\"Jane Smith\", \"John Smith\", \"Bob James\", \"Food Wars\"]\n",
    "print(my_list)"
   ]
  },
  {
   "cell_type": "code",
   "execution_count": 14,
   "id": "5f0a939b",
   "metadata": {},
   "outputs": [
    {
     "name": "stdout",
     "output_type": "stream",
     "text": [
      "('Jane Smith', 'John Smith', 'Bob James', 'Food Wars')\n",
      "<class 'tuple'>\n"
     ]
    }
   ],
   "source": [
    "my_tuple = (\"Jane Smith\", \"John Smith\", \"Bob James\", \"Food Wars\")\n",
    "print(my_tuple)\n",
    "print(type(my_tuple))"
   ]
  },
  {
   "cell_type": "code",
   "execution_count": 15,
   "id": "ad6b5410",
   "metadata": {},
   "outputs": [
    {
     "name": "stdout",
     "output_type": "stream",
     "text": [
      "[0, 1, 2, 3, 4, 5, 6, 7, 8, 9, 10, 11, 12, 13, 14, 15, 16, 17, 18, 19, 20, 21, 22, 23, 24, 25, 26, 27, 28, 29, 30, 31, 32, 33, 34, 35, 36, 37, 38, 39, 40, 41, 42, 43, 44, 45, 46, 47, 48, 49]\n"
     ]
    }
   ],
   "source": [
    "my_range = range(50)\n",
    "print(list(my_range))"
   ]
  },
  {
   "cell_type": "code",
   "execution_count": null,
   "id": "4464fa54",
   "metadata": {},
   "outputs": [
    {
     "name": "stdout",
     "output_type": "stream",
     "text": [
      "{'name': 'Jonte Bones'}\n"
     ]
    }
   ],
   "source": [
    "my_dict = {\n",
    "    'name': 'Jonte Bones',\n",
    "}\n",
    "\n",
    "print(my_dict)"
   ]
  },
  {
   "cell_type": "code",
   "execution_count": 12,
   "id": "0f06b272",
   "metadata": {},
   "outputs": [
    {
     "name": "stdout",
     "output_type": "stream",
     "text": [
      "7\n",
      "13\n",
      "30\n",
      "3.3333333333333335\n",
      "8.0\n",
      "3.141592653589793\n",
      "3\n",
      "3\n",
      "27.0\n",
      "1.41\n",
      "3.142\n"
     ]
    }
   ],
   "source": [
    "import math\n",
    "\n",
    "a = 10 \n",
    "b = 3\n",
    "\n",
    "print (a-b)\n",
    "print (a + b)\n",
    "print (a * b) \n",
    "print (a / b)\n",
    "\n",
    "print(math.sqrt(64))\n",
    "print(math.pi)\n",
    "print(math.floor(3.141592653589793))\n",
    "print(math.ceil(3.0))\n",
    "print(math.pow(3, 3))\n",
    "print(math.sqrt(2).__round__(2))\n",
    "print(round(3.141592653589793, 3))\n",
    "\n"
   ]
  },
  {
   "cell_type": "code",
   "execution_count": 20,
   "id": "d35d72af",
   "metadata": {},
   "outputs": [
    {
     "name": "stdout",
     "output_type": "stream",
     "text": [
      "3.0\n"
     ]
    }
   ],
   "source": [
    "num1 = float(input('enter first number: '))\n",
    "num2 = float(input('enter second number: '))\n",
    "\n",
    "sum = num1 + num2 \n",
    "print(sum)\n",
    "\n"
   ]
  },
  {
   "cell_type": "code",
   "execution_count": 40,
   "id": "5409b97d",
   "metadata": {},
   "outputs": [
    {
     "name": "stdout",
     "output_type": "stream",
     "text": [
      "bob billy\n",
      "12\n"
     ]
    }
   ],
   "source": [
    "first_name = input('Enter First Name: ')\n",
    "second_name = input('Enter Second Name: ')\n",
    "age = int(input('Enter Your Age: '))\n",
    "\n",
    "full_name = first_name + \" \" + second_name\n",
    "\n",
    "\n",
    "print(full_name)\n",
    "print(age)\n"
   ]
  },
  {
   "cell_type": "code",
   "execution_count": 27,
   "id": "ce4840fd",
   "metadata": {},
   "outputs": [
    {
     "name": "stdout",
     "output_type": "stream",
     "text": [
      "0\n"
     ]
    }
   ],
   "source": [
    "name = ['John', 'Bob']\n",
    "\n",
    "x = name.index('John')\n",
    "\n",
    "print(x)\n",
    "\n"
   ]
  },
  {
   "cell_type": "code",
   "execution_count": 38,
   "id": "3385ad9b",
   "metadata": {},
   "outputs": [
    {
     "name": "stdout",
     "output_type": "stream",
     "text": [
      "PYTHON\n",
      "python\n",
      "PYTHON\n",
      "Python\n",
      "PYtHON\n",
      "True\n",
      "False\n",
      "True\n",
      "red  green  blue  red\n"
     ]
    }
   ],
   "source": [
    "str1 = \"pyThon\" \n",
    "\n",
    "print(str1.upper())\n",
    "print(str1.lower())\n",
    "print(str1.upper())\n",
    "print(str1.title())\n",
    "print(str1.swapcase())\n",
    "\n",
    "str2 = '12ab'\n",
    "str3 = \" \"\n",
    "print(str2.isalnum())\n",
    "print(str2.isalpha())\n",
    "print(str3.isspace())\n",
    "\n",
    "colors = 'red, green, blue, red'.split(\",\")\n",
    "joined = ' '.join(colors)\n",
    "print(joined)\n"
   ]
  },
  {
   "cell_type": "code",
   "execution_count": 45,
   "id": "1b90165d",
   "metadata": {},
   "outputs": [
    {
     "name": "stdout",
     "output_type": "stream",
     "text": [
      "Hello There, \n",
      "How Are you\n"
     ]
    }
   ],
   "source": [
    "s = 'Hello There, \\nHow Are you'\n",
    "print(s)"
   ]
  },
  {
   "cell_type": "code",
   "execution_count": 54,
   "id": "3d33c5c1",
   "metadata": {},
   "outputs": [
    {
     "name": "stdout",
     "output_type": "stream",
     "text": [
      "You will earn $120.0 daily. \n",
      "You will earn $600.0 weekly. \n",
      "You will earn $2400.0 monthly. \n",
      "You will earn $28800.0 yearly. \n"
     ]
    }
   ],
   "source": [
    "hours = float(input(\"How many hours do you work in a day?: \"))\n",
    "rate = float(input(\"Whats the rate of pay hourly?: \"))\n",
    "\n",
    "salary_day = hours * rate\n",
    "salary_week = salary_day * 5 \n",
    "salary_month = salary_week * 4 \n",
    "salary_year = salary_month * 12 \n",
    "\n",
    "print(f'You will earn ${salary_day} daily. \\nYou will earn ${salary_week} weekly. \\nYou will earn ${salary_month} monthly. \\nYou will earn ${salary_year} yearly. ')\n"
   ]
  },
  {
   "cell_type": "code",
   "execution_count": 58,
   "id": "289bd2c0",
   "metadata": {},
   "outputs": [
    {
     "name": "stdout",
     "output_type": "stream",
     "text": [
      "6.0 <class 'float'>\n",
      "6.0 <class 'float'>\n",
      "5.0 <class 'float'>\n",
      "11 <class 'int'>\n"
     ]
    }
   ],
   "source": [
    "width = float(input(\"Enter Width\"))\n",
    "height = float(input(\"Enter Height\"))\n",
    "\n",
    "print(width // 2, type(width // 2))\n",
    "print(width / 2.0, type(width / 2.0))\n",
    "print(height / 3, type(height / 3))\n",
    "print(1 + 2 * 5, type(1 + 2 * 5))"
   ]
  },
  {
   "cell_type": "code",
   "execution_count": null,
   "id": "a4f1a14b",
   "metadata": {},
   "outputs": [
    {
     "name": "stdout",
     "output_type": "stream",
     "text": [
      "The temperature in Fahrenheit is 77.0°F\n"
     ]
    }
   ],
   "source": [
    "celsius = float(input(\"Enter temperature in Celsius: \"))\n",
    "\n",
    "fahrenheit = (celsius * 9/5) + 32\n",
    "\n",
    "print(f\"The temperature in Fahrenheit is {fahrenheit}°F\")"
   ]
  },
  {
   "cell_type": "code",
   "execution_count": 60,
   "id": "2ddc6316",
   "metadata": {},
   "outputs": [
    {
     "name": "stdout",
     "output_type": "stream",
     "text": [
      "Diddy Would want you\n"
     ]
    }
   ],
   "source": [
    "age = 8\n",
    "if age >= 18:\n",
    "    print(\"you are an adult\")\n",
    "else: \n",
    "    print(\"Diddy Would want you\")"
   ]
  },
  {
   "cell_type": "code",
   "execution_count": 61,
   "id": "836929a1",
   "metadata": {},
   "outputs": [
    {
     "name": "stdout",
     "output_type": "stream",
     "text": [
      "Access Granted\n"
     ]
    }
   ],
   "source": [
    "password = ''\n",
    "while password != 'pass123':\n",
    "    password = input(\"Enter Your Password: \")\n",
    "print(\"Access Granted\")"
   ]
  },
  {
   "cell_type": "code",
   "execution_count": null,
   "id": "f8dec7a2",
   "metadata": {},
   "outputs": [
    {
     "name": "stdout",
     "output_type": "stream",
     "text": [
      "Hello, DECLAN RICE\n",
      "Hello, guest\n"
     ]
    }
   ],
   "source": []
  },
  {
   "cell_type": "code",
   "execution_count": null,
   "id": "53b6bf48",
   "metadata": {},
   "outputs": [
    {
     "name": "stdout",
     "output_type": "stream",
     "text": [
      "4\n"
     ]
    }
   ],
   "source": [
    "# def add(num1, num2):\n",
    "#     return num1 + num2\n",
    "\n",
    "# sum = add(3, 1)\n",
    "# print(sum)"
   ]
  },
  {
   "cell_type": "code",
   "execution_count": 11,
   "id": "b410f9d3",
   "metadata": {},
   "outputs": [
    {
     "name": "stdout",
     "output_type": "stream",
     "text": [
      "Line Count 1909\n"
     ]
    }
   ],
   "source": [
    "fhand = open('mbox_short.txt')\n",
    "\n",
    "count = 0\n",
    "\n",
    "for line in fhand: \n",
    "    count = count + 1\n",
    "\n",
    "print('Line Count', count)"
   ]
  },
  {
   "cell_type": "code",
   "execution_count": 17,
   "id": "afa33020",
   "metadata": {},
   "outputs": [
    {
     "name": "stdout",
     "output_type": "stream",
     "text": [
      "94625\n",
      "From stephen.marquar\n"
     ]
    }
   ],
   "source": [
    "fhand = open('mbox_short.txt')\n",
    "inp = fhand.read()\n",
    "\n",
    "print(len(inp))\n",
    "print(inp[:20])"
   ]
  },
  {
   "cell_type": "code",
   "execution_count": 19,
   "id": "07a2fd0a",
   "metadata": {},
   "outputs": [
    {
     "name": "stdout",
     "output_type": "stream",
     "text": [
      "From stephen.marquard@uct.ac.za Sat Jan  5 09:14:16 2008\n",
      "\n",
      "From: stephen.marquard@uct.ac.za\n",
      "\n",
      "From louis@media.berkeley.edu Fri Jan  4 18:10:48 2008\n",
      "\n",
      "From: louis@media.berkeley.edu\n",
      "\n",
      "From zqian@umich.edu Fri Jan  4 16:10:39 2008\n",
      "\n",
      "From: zqian@umich.edu\n",
      "\n",
      "From rjlowe@iupui.edu Fri Jan  4 15:46:24 2008\n",
      "\n",
      "From: rjlowe@iupui.edu\n",
      "\n",
      "From zqian@umich.edu Fri Jan  4 15:03:18 2008\n",
      "\n",
      "From: zqian@umich.edu\n",
      "\n",
      "From rjlowe@iupui.edu Fri Jan  4 14:50:18 2008\n",
      "\n",
      "From: rjlowe@iupui.edu\n",
      "\n",
      "From cwen@iupui.edu Fri Jan  4 11:37:30 2008\n",
      "\n",
      "From: cwen@iupui.edu\n",
      "\n",
      "From cwen@iupui.edu Fri Jan  4 11:35:08 2008\n",
      "\n",
      "From: cwen@iupui.edu\n",
      "\n",
      "From gsilver@umich.edu Fri Jan  4 11:12:37 2008\n",
      "\n",
      "From: gsilver@umich.edu\n",
      "\n",
      "From gsilver@umich.edu Fri Jan  4 11:11:52 2008\n",
      "\n",
      "From: gsilver@umich.edu\n",
      "\n",
      "From zqian@umich.edu Fri Jan  4 11:11:03 2008\n",
      "\n",
      "From: zqian@umich.edu\n",
      "\n",
      "From gsilver@umich.edu Fri Jan  4 11:10:22 2008\n",
      "\n",
      "From: gsilver@umich.edu\n",
      "\n",
      "From wagnermr@iupui.edu Fri Jan  4 10:38:42 2008\n",
      "\n",
      "From: wagnermr@iupui.edu\n",
      "\n",
      "From zqian@umich.edu Fri Jan  4 10:17:43 2008\n",
      "\n",
      "From: zqian@umich.edu\n",
      "\n",
      "From antranig@caret.cam.ac.uk Fri Jan  4 10:04:14 2008\n",
      "\n",
      "From: antranig@caret.cam.ac.uk\n",
      "\n",
      "From gopal.ramasammycook@gmail.com Fri Jan  4 09:05:31 2008\n",
      "\n",
      "From: gopal.ramasammycook@gmail.com\n",
      "\n",
      "From david.horwitz@uct.ac.za Fri Jan  4 07:02:32 2008\n",
      "\n",
      "From: david.horwitz@uct.ac.za\n",
      "\n",
      "From david.horwitz@uct.ac.za Fri Jan  4 06:08:27 2008\n",
      "\n",
      "From: david.horwitz@uct.ac.za\n",
      "\n",
      "From david.horwitz@uct.ac.za Fri Jan  4 04:49:08 2008\n",
      "\n",
      "From: david.horwitz@uct.ac.za\n",
      "\n",
      "From david.horwitz@uct.ac.za Fri Jan  4 04:33:44 2008\n",
      "\n",
      "From: david.horwitz@uct.ac.za\n",
      "\n",
      "From stephen.marquard@uct.ac.za Fri Jan  4 04:07:34 2008\n",
      "\n",
      "From: stephen.marquard@uct.ac.za\n",
      "\n",
      "From louis@media.berkeley.edu Thu Jan  3 19:51:21 2008\n",
      "\n",
      "From: louis@media.berkeley.edu\n",
      "\n",
      "From louis@media.berkeley.edu Thu Jan  3 17:18:23 2008\n",
      "\n",
      "From: louis@media.berkeley.edu\n",
      "\n",
      "From ray@media.berkeley.edu Thu Jan  3 17:07:00 2008\n",
      "\n",
      "From: ray@media.berkeley.edu\n",
      "\n",
      "From cwen@iupui.edu Thu Jan  3 16:34:40 2008\n",
      "\n",
      "From: cwen@iupui.edu\n",
      "\n",
      "From cwen@iupui.edu Thu Jan  3 16:29:07 2008\n",
      "\n",
      "From: cwen@iupui.edu\n",
      "\n",
      "From cwen@iupui.edu Thu Jan  3 16:23:48 2008\n",
      "\n",
      "From: cwen@iupui.edu\n",
      "\n"
     ]
    }
   ],
   "source": [
    "fhand = open('mbox_short.txt')\n",
    "\n",
    "for line in fhand:\n",
    "    if line.startswith(\"From\"):\n",
    "        print(line)"
   ]
  },
  {
   "cell_type": "code",
   "execution_count": 29,
   "id": "a28da812",
   "metadata": {},
   "outputs": [
    {
     "name": "stdout",
     "output_type": "stream",
     "text": [
      "<_io.TextIOWrapper name='output.txt' mode='w' encoding='cp1252'>\n"
     ]
    }
   ],
   "source": [
    "file1 = open('output.txt', 'w')\n",
    "\n",
    "print(file1)\n",
    "line1 = \"Some Random Text\"\n",
    "file1.write(line1)\n",
    "\n",
    "line2 = \"\\nsome random text 2\"\n",
    "file1.write(line2)\n",
    "\n",
    "file1.close()\n"
   ]
  },
  {
   "cell_type": "code",
   "execution_count": null,
   "id": "0ff48e93",
   "metadata": {},
   "outputs": [],
   "source": []
  }
 ],
 "metadata": {
  "kernelspec": {
   "display_name": "virtual",
   "language": "python",
   "name": "python3"
  },
  "language_info": {
   "codemirror_mode": {
    "name": "ipython",
    "version": 3
   },
   "file_extension": ".py",
   "mimetype": "text/x-python",
   "name": "python",
   "nbconvert_exporter": "python",
   "pygments_lexer": "ipython3",
   "version": "3.13.2"
  }
 },
 "nbformat": 4,
 "nbformat_minor": 5
}
