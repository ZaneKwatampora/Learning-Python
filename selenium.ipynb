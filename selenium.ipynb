{
 "cells": [
  {
   "cell_type": "code",
   "execution_count": 6,
   "id": "26d155ca",
   "metadata": {},
   "outputs": [],
   "source": [
    "from selenium import webdriver\n",
    "from selenium.webdriver.chrome.service import Service\n",
    "from selenium.webdriver.common.by import By\n",
    "import time\n",
    "# Set up ChromeDriver service\n",
    "service = Service()  # If chromedriver is in PATH\n",
    "driver = webdriver.Chrome(service=service)\n",
    "# Open a website\n",
    "driver.get(\"https://www.google.com\")\n",
    "# Optional: interact with the page\n",
    "search_box = driver.find_element(By.NAME, \"q\")\n",
    "search_box.send_keys(\"Hello Selenium\")\n",
    "search_box.submit()\n",
    "time.sleep(5)\n",
    "driver.quit()"
   ]
  },
  {
   "cell_type": "markdown",
   "id": "ea9cc229",
   "metadata": {},
   "source": [
    "## Quotes"
   ]
  },
  {
   "cell_type": "code",
   "execution_count": null,
   "id": "4b3bccc4",
   "metadata": {},
   "outputs": [
    {
     "name": "stdout",
     "output_type": "stream",
     "text": [
      "Quote: “The world as we have created it is a process of our thinking. It cannot be changed without changing our thinking.”\n",
      "Author: Albert Einstein\n",
      "---------------------------------------\n",
      "Quote: “It is our choices, Harry, that show what we truly are, far more than our abilities.”\n",
      "Author: J.K. Rowling\n",
      "---------------------------------------\n",
      "Quote: “There are only two ways to live your life. One is as though nothing is a miracle. The other is as though everything is a miracle.”\n",
      "Author: Albert Einstein\n",
      "---------------------------------------\n",
      "Quote: “The person, be it gentleman or lady, who has not pleasure in a good novel, must be intolerably stupid.”\n",
      "Author: Jane Austen\n",
      "---------------------------------------\n",
      "Quote: “Imperfection is beauty, madness is genius and it's better to be absolutely ridiculous than absolutely boring.”\n",
      "Author: Marilyn Monroe\n",
      "---------------------------------------\n",
      "Quote: “Try not to become a man of success. Rather become a man of value.”\n",
      "Author: Albert Einstein\n",
      "---------------------------------------\n",
      "Quote: “It is better to be hated for what you are than to be loved for what you are not.”\n",
      "Author: André Gide\n",
      "---------------------------------------\n",
      "Quote: “I have not failed. I've just found 10,000 ways that won't work.”\n",
      "Author: Thomas A. Edison\n",
      "---------------------------------------\n",
      "Quote: “A woman is like a tea bag; you never know how strong it is until it's in hot water.”\n",
      "Author: Eleanor Roosevelt\n",
      "---------------------------------------\n",
      "Quote: “A day without sunshine is like, you know, night.”\n",
      "Author: Steve Martin\n",
      "---------------------------------------\n"
     ]
    }
   ],
   "source": [
    "from selenium import webdriver\n",
    "from selenium.webdriver.chrome.service import Service\n",
    "from selenium.webdriver.common.by import By\n",
    "import time\n",
    "\n",
    "# Set up ChromeDriver service\n",
    "service = Service()  # If chromedriver is in PATH\n",
    "driver = webdriver.Chrome(service=service)\n",
    "\n",
    "# Open a website\n",
    "driver.get(\"https://quotes.toscrape.com\")\n",
    "\n",
    "time.sleep(5)\n",
    "\n",
    "quotes = driver.find_elements(By.CLASS_NAME, 'quote')\n",
    "\n",
    "for quote in quotes:\n",
    "    text = quote.find_element(By.CLASS_NAME, 'text').text\n",
    "    author = quote.find_element(By.CLASS_NAME, 'author').text\n",
    "    \n",
    "    print(f'Quote: {text}\\nAuthor: {author}')\n",
    "    print('---------------------------------------')\n",
    "\n",
    "driver.quit()\n"
   ]
  },
  {
   "cell_type": "code",
   "execution_count": 1,
   "id": "53791280",
   "metadata": {},
   "outputs": [
    {
     "name": "stdout",
     "output_type": "stream",
     "text": [
      "All books from 51-pages saved to books2.csv\n"
     ]
    }
   ],
   "source": [
    "from selenium import webdriver\n",
    "from selenium.webdriver.chrome.service import Service\n",
    "from selenium.webdriver.common.by import By\n",
    "import time\n",
    "import csv\n",
    "\n",
    "header = ['Title\\n','Price\\n', 'Stock']\n",
    "csv_file = 'books2.csv'\n",
    "\n",
    "# Set up ChromeDriver service\n",
    "service = Service()  # If chromedriver is in PATH\n",
    "driver = webdriver.Chrome(service=service)\n",
    "\n",
    "with open(csv_file, mode='w', newline=\"\", encoding=\"utf-8\") as file:\n",
    "    writer = csv.writer(file)\n",
    "    writer.writerow(['Title','Price', 'Stock'])\n",
    "    \n",
    "    page = 1\n",
    "\n",
    "    while True:\n",
    "        response = driver.get(f'https://books.toscrape.com/catalogue/page-{page}.html')\n",
    "        time.sleep(5)\n",
    "        \n",
    "        books = driver.find_elements(By.CLASS_NAME, 'product_pod')\n",
    "        \n",
    "        if not books:\n",
    "            break\n",
    "        for book in books:\n",
    "            # title = book.find_element('title').text\n",
    "            title = book.find_element(By.TAG_NAME, 'h3').text\n",
    "            # title = 'learning'\n",
    "            price = book.find_element(By.CLASS_NAME, \"price_color\").text\n",
    "            stock = book.find_element(By.CLASS_NAME, \"instock\").text\n",
    "            writer.writerow([title, price, stock])  \n",
    "            \n",
    "        page += 1\n",
    "\n",
    "driver.quit()\n",
    "    \n",
    "print(f\"All books from {page}-pages saved to {csv_file}\")\n",
    "    \n",
    "    \n",
    "    \n"
   ]
  },
  {
   "cell_type": "code",
   "execution_count": 26,
   "id": "ee6d6cef",
   "metadata": {},
   "outputs": [],
   "source": [
    "# page = 1\n",
    "\n",
    "# while True:\n",
    "#     response = requests.get(f'https://books.toscrape.com/catalogue/page-{page}.html')\n",
    "#     soup = BeautifulSoup(response.text, \"html.parser\")\n",
    "\n",
    "#     books = soup.find_all('article', class_=\"product_pod\")\n",
    "\n",
    "#     if not books:\n",
    "#         break\n",
    "\n",
    "#     for book in books:\n",
    "#         title = book.h3.a.get('title')\n",
    "#         price = book.select_one(\".price_color\").get_text()\n",
    "#         stock = book.select_one(\".instock\").get_text(strip=True)\n",
    "        \n",
    "#         print(f'Title: {title}\\nPrice: {price}\\nStock: {stock}')\n",
    "#         print('-------------------------')\n",
    "\n",
    "#     page += 1 "
   ]
  }
 ],
 "metadata": {
  "kernelspec": {
   "display_name": "virtual",
   "language": "python",
   "name": "python3"
  },
  "language_info": {
   "codemirror_mode": {
    "name": "ipython",
    "version": 3
   },
   "file_extension": ".py",
   "mimetype": "text/x-python",
   "name": "python",
   "nbconvert_exporter": "python",
   "pygments_lexer": "ipython3",
   "version": "3.13.2"
  }
 },
 "nbformat": 4,
 "nbformat_minor": 5
}
