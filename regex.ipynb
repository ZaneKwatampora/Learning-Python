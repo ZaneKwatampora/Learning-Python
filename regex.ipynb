{
 "cells": [
  {
   "cell_type": "code",
   "execution_count": 2,
   "id": "f70e28b7",
   "metadata": {},
   "outputs": [
    {
     "name": "stdout",
     "output_type": "stream",
     "text": [
      "Python\n"
     ]
    }
   ],
   "source": [
    "import re \n",
    "\n",
    "result = re.match(r'Python', 'Python is an exciting programming language')\n",
    "\n",
    "print(result.group())"
   ]
  },
  {
   "cell_type": "code",
   "execution_count": 7,
   "id": "66d98eb4",
   "metadata": {},
   "outputs": [
    {
     "name": "stdout",
     "output_type": "stream",
     "text": [
      "a\n"
     ]
    }
   ],
   "source": [
    "import re \n",
    "\n",
    "result = re.search(r'a', 'Python is an exciting programming language')\n",
    "print(result.group())\n"
   ]
  },
  {
   "cell_type": "code",
   "execution_count": 13,
   "id": "01c6a935",
   "metadata": {},
   "outputs": [
    {
     "name": "stdout",
     "output_type": "stream",
     "text": [
      "['0', '1', '0', '1', '4', '5', '3', '2', '5', '0']\n"
     ]
    }
   ],
   "source": [
    "result = re.findall(r'\\d', 'My phone Number is 0101453250')\n",
    "print(result)\n"
   ]
  },
  {
   "cell_type": "code",
   "execution_count": 15,
   "id": "bb11eb74",
   "metadata": {},
   "outputs": [
    {
     "name": "stdout",
     "output_type": "stream",
     "text": [
      "I dont like orange\n"
     ]
    }
   ],
   "source": [
    "text = re.sub(r'apple', 'orange', 'I dont like apple')\n",
    "print(text)"
   ]
  },
  {
   "cell_type": "code",
   "execution_count": 104,
   "id": "eb8b20cd",
   "metadata": {},
   "outputs": [
    {
     "name": "stdout",
     "output_type": "stream",
     "text": [
      "['acb', 'alb', 'a_b', 'abb', 'axb', 'acb']\n",
      "['good']\n",
      "['morning']\n",
      "['ll', 'loool']\n",
      "['loool']\n",
      "['roar', 'ror']\n",
      "['roar']\n",
      "['color', 'colour']\n",
      "['123', '123', '123', '451', '234', '560']\n"
     ]
    }
   ],
   "source": [
    "text = re.findall(r'a.b', 'acb alb a_b abb axb \\n acb lab')\n",
    "print(text)\n",
    "\n",
    "text = re.findall(r'^good', 'good morning')\n",
    "print(text)\n",
    "\n",
    "text = re.findall(r'morning$', 'good morning')\n",
    "print(text)\n",
    "\n",
    "text = re.findall(r'lo*l', 'll loool  lmaool')\n",
    "print(text)\n",
    "\n",
    "text = re.findall(r'lo+l', 'll loool  lmaool')\n",
    "print(text)\n",
    "\n",
    "text = re.findall(r'roa*r', 'roar romar ror')\n",
    "print(text)\n",
    "\n",
    "text = re.findall(r'roa+r', 'roar roa ror')\n",
    "print(text)\n",
    "\n",
    "text = re.findall(r'colou?r', 'color clor colour coloor coulor')\n",
    "print(text)\n",
    "\n",
    "# text = input(\"Enter a password: \")\n",
    "# password = re.findall(r'colo?r', text)\n",
    "\n",
    "# if text != password:\n",
    "#     print('Enter the correct password')\n",
    "# else:\n",
    "#     print('password is correct')\n",
    "\n",
    "nums = re.findall(r'\\d{3}', '12 123 1234 123451234560')\n",
    "print(nums)\n",
    "    \n",
    "    \n",
    "\n"
   ]
  },
  {
   "cell_type": "code",
   "execution_count": 89,
   "id": "d1e9ba1d",
   "metadata": {},
   "outputs": [
    {
     "name": "stdout",
     "output_type": "stream",
     "text": [
      "['P', 'h', 'o', 'n', 'e', ' ', 'n', 'o', ':', ' ', '-', '-']\n"
     ]
    }
   ],
   "source": [
    "text = 'Phone no: 133-056-7890'\n",
    "\n",
    "result = re.findall(r'\\D', text)\n",
    "print(result)"
   ]
  },
  {
   "cell_type": "code",
   "execution_count": 92,
   "id": "fc1f7e1f",
   "metadata": {},
   "outputs": [
    {
     "name": "stdout",
     "output_type": "stream",
     "text": [
      "[' ', ':', ' ', '-', '-']\n"
     ]
    }
   ],
   "source": [
    "text = 'Phone no: 133-056-7890'\n",
    "\n",
    "result = re.findall(r'\\W', text)\n",
    "print(result)"
   ]
  },
  {
   "cell_type": "code",
   "execution_count": 3,
   "id": "92af688d",
   "metadata": {},
   "outputs": [
    {
     "name": "stdout",
     "output_type": "stream",
     "text": [
      "[' ', ' ']\n"
     ]
    }
   ],
   "source": [
    "\n",
    "import re \n",
    "text = 'Phone no: 133-056-7890'\n",
    "\n",
    "result = re.findall(r'\\s', text)\n",
    "print(result)"
   ]
  },
  {
   "cell_type": "code",
   "execution_count": null,
   "id": "f180a6ba",
   "metadata": {},
   "outputs": [
    {
     "ename": "KeyboardInterrupt",
     "evalue": "",
     "output_type": "error",
     "traceback": [
      "\u001b[31m---------------------------------------------------------------------------\u001b[39m",
      "\u001b[31mKeyboardInterrupt\u001b[39m                         Traceback (most recent call last)",
      "\u001b[36mCell\u001b[39m\u001b[36m \u001b[39m\u001b[32mIn[106]\u001b[39m\u001b[32m, line 4\u001b[39m\n\u001b[32m      1\u001b[39m text = \u001b[38;5;28minput\u001b[39m(\u001b[33m\"\u001b[39m\u001b[33mEnter a password: \u001b[39m\u001b[33m\"\u001b[39m)\n\u001b[32m----> \u001b[39m\u001b[32m4\u001b[39m \u001b[38;5;28;01mwhile\u001b[39;00m text != password:\n\u001b[32m      5\u001b[39m    password = re.findall(\u001b[33mr\u001b[39m\u001b[33m'\u001b[39m\u001b[33mcolo?r\u001b[39m\u001b[33m'\u001b[39m, text)\n\u001b[32m      6\u001b[39m    \u001b[38;5;28;01mif\u001b[39;00m text == password:\n",
      "\u001b[31mKeyboardInterrupt\u001b[39m: "
     ]
    }
   ],
   "source": [
    "text = input(\"Enter a password: \")\n",
    "password = re.findall(r'colo?r', text)\n",
    "\n",
    "while text != password:\n",
    "   input('Enter the correct password: ')\n",
    "else:   \n",
    "    print('password is correct')\n",
    " "
   ]
  },
  {
   "cell_type": "code",
   "execution_count": 101,
   "id": "3b43c1af",
   "metadata": {},
   "outputs": [
    {
     "name": "stdout",
     "output_type": "stream",
     "text": [
      "['python', 'Java1', '1']\n"
     ]
    }
   ],
   "source": [
    "text = 'Python3 Java17 C++17'\n",
    "result = re.findall(r'\\w+(?=\\d)', text)\n",
    "\n",
    "print(result)"
   ]
  },
  {
   "cell_type": "code",
   "execution_count": null,
   "id": "5ad47f1f",
   "metadata": {},
   "outputs": [],
   "source": [
    "text = input(\"Enter a password: \")\n",
    "password = re.findall(r'colou?r', text)\n",
    "\n",
    "if text != password:\n",
    "    input('Enter the correct password: ')\n",
    "elif password == text:\n",
    "    print('Good Job')\n",
    "else:\n",
    "    print('password is correct')"
   ]
  },
  {
   "cell_type": "code",
   "execution_count": 109,
   "id": "067052f3",
   "metadata": {},
   "outputs": [
    {
     "name": "stdout",
     "output_type": "stream",
     "text": [
      "['2000']\n"
     ]
    }
   ],
   "source": [
    "text = \"KES2000 USD1000\"\n",
    "result = re.findall(r'(?<=KES)\\d+', text)\n",
    "\n",
    "print(result)"
   ]
  },
  {
   "cell_type": "code",
   "execution_count": 115,
   "id": "ae549888",
   "metadata": {},
   "outputs": [
    {
     "name": "stdout",
     "output_type": "stream",
     "text": [
      "True\n"
     ]
    }
   ],
   "source": [
    "pattern = r'^[\\w\\.-]+@[\\w\\.-]+\\.\\w+$'\n",
    "email =\"sampleemail@example.com\"\n",
    "\n",
    "print(bool(re.match(pattern, email)))"
   ]
  },
  {
   "cell_type": "code",
   "execution_count": 114,
   "id": "2ea812b6",
   "metadata": {},
   "outputs": [
    {
     "name": "stdout",
     "output_type": "stream",
     "text": [
      "['http://www.sample.com', 'https://sample.org']\n"
     ]
    }
   ],
   "source": [
    "text = 'visit us at http://www.sample.com or https://sample.org'\n",
    "urls = re.findall(r'https?://\\S+', text)\n",
    "\n",
    "print(urls)"
   ]
  },
  {
   "cell_type": "code",
   "execution_count": null,
   "id": "6d9877b5",
   "metadata": {},
   "outputs": [],
   "source": []
  }
 ],
 "metadata": {
  "kernelspec": {
   "display_name": "virtual",
   "language": "python",
   "name": "python3"
  },
  "language_info": {
   "codemirror_mode": {
    "name": "ipython",
    "version": 3
   },
   "file_extension": ".py",
   "mimetype": "text/x-python",
   "name": "python",
   "nbconvert_exporter": "python",
   "pygments_lexer": "ipython3",
   "version": "3.13.2"
  }
 },
 "nbformat": 4,
 "nbformat_minor": 5
}
